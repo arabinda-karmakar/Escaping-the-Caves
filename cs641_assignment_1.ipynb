{
 "cells": [
  {
   "cell_type": "code",
   "execution_count": 15,
   "id": "c794de44",
   "metadata": {},
   "outputs": [],
   "source": [
    "cipher_text = '''Mewa wa mey twsam iepjoys gt mey ipbya. Pa xgn iph ayy, meysy wa hgmewhr gt whmysyam wh mey iepjoys. Agjy gt mey kpmys iepjoysa vwkk oy jgsy whmysyamwhr meph mewa ghy! Mey iguy nayu tgs mewa jyaapry wa p awjfky anoamwmnmwgh iwfeys wh vewie uwrwma epby oyyh aewtmyu ox 8 fkpiya. Mey fpaavgsu wa \"mxSrN03uwdd\" vwmegnm mey dngmya.'''"
   ]
  },
  {
   "cell_type": "code",
   "execution_count": 19,
   "id": "ab24b127",
   "metadata": {},
   "outputs": [],
   "source": [
    "cipher_text = cipher_text.replace('\\t', ' ')\n",
    "cipher_text = cipher_text.replace('\\n', '')"
   ]
  },
  {
   "cell_type": "code",
   "execution_count": 21,
   "id": "b4080a41",
   "metadata": {},
   "outputs": [],
   "source": [
    "text = cipher_text[:]"
   ]
  },
  {
   "cell_type": "code",
   "execution_count": 22,
   "id": "014005fe",
   "metadata": {},
   "outputs": [],
   "source": [
    "freq = {}\n",
    "for c in text:\n",
    "    if c  == ' ':\n",
    "        continue\n",
    "    if c in freq:\n",
    "        freq[c.lower()] += 1\n",
    "    else:\n",
    "        freq[c.lower()] = 1"
   ]
  },
  {
   "cell_type": "code",
   "execution_count": 23,
   "id": "3d36b641",
   "metadata": {},
   "outputs": [],
   "source": [
    "total_chars = sum(freq.values())\n",
    "freq = {x: y/total_chars * 100 for x, y in freq.items()}"
   ]
  },
  {
   "cell_type": "code",
   "execution_count": 24,
   "id": "a9999ee0",
   "metadata": {},
   "outputs": [
    {
     "data": {
      "text/plain": [
       "{'y': 16.289592760180994,\n",
       " 'w': 11.312217194570136,\n",
       " 'e': 9.95475113122172,\n",
       " 'a': 8.597285067873303,\n",
       " 'g': 6.334841628959276,\n",
       " 'h': 5.429864253393665,\n",
       " 'p': 4.97737556561086,\n",
       " 'i': 4.072398190045249,\n",
       " 'j': 3.167420814479638,\n",
       " 'o': 3.167420814479638,\n",
       " 'm': 2.7149321266968327,\n",
       " 't': 2.7149321266968327,\n",
       " 'u': 2.7149321266968327,\n",
       " 'r': 2.262443438914027,\n",
       " 'k': 2.262443438914027,\n",
       " '.': 1.809954751131222,\n",
       " 'v': 1.809954751131222,\n",
       " 'f': 1.809954751131222,\n",
       " 'x': 1.3574660633484164,\n",
       " 'n': 1.3574660633484164,\n",
       " 'd': 1.3574660633484164,\n",
       " 'b': 0.904977375565611,\n",
       " '\"': 0.904977375565611,\n",
       " 's': 0.4524886877828055,\n",
       " ',': 0.4524886877828055,\n",
       " '!': 0.4524886877828055,\n",
       " '8': 0.4524886877828055,\n",
       " '0': 0.4524886877828055,\n",
       " '3': 0.4524886877828055}"
      ]
     },
     "execution_count": 24,
     "metadata": {},
     "output_type": "execute_result"
    }
   ],
   "source": [
    "dict(sorted(freq.items(), key=lambda item: item[1], reverse=True))"
   ]
  },
  {
   "cell_type": "code",
   "execution_count": 25,
   "id": "acbe3a68",
   "metadata": {},
   "outputs": [],
   "source": [
    "def substitute(text, key):\n",
    "    new_text = list(text)\n",
    "    for i in range(len(text)):\n",
    "        if new_text[i] in key:\n",
    "            new_text[i] = key[new_text[i]]\n",
    "    return ''.join(new_text)"
   ]
  },
  {
   "cell_type": "code",
   "execution_count": 33,
   "id": "c025ee9b",
   "metadata": {},
   "outputs": [],
   "source": [
    "key = {\n",
    "\n",
    "\n",
    "'a' : 's',\n",
    "'b' : 'v',\n",
    "'d' : 'q',\n",
    "'e' : 'h',\n",
    "'f' : 'p',\n",
    "'g' : 'o',\n",
    "'h' : 'n',\n",
    "'i' : 'c',\n",
    "'j' : 'm',\n",
    "'k' : 'l',\n",
    "'m' : 't',\n",
    "'n' : 'u',\n",
    "'o' : 'b',\n",
    "'p' : 'a',\n",
    "'r' : 'g',\n",
    "'s' : 'r',\n",
    "'t' : 'f',\n",
    "'u' : 'd',\n",
    "'v' : 'w',\n",
    "'w' : 'i',\n",
    "'x' : 'y',\n",
    "'y' : 'e',\n",
    "'M' : 'T',\n",
    "'P' : 'A',\n",
    "'N' : 'U',\n",
    "'S' : 'R',\n",
    "'A' : 'S',\n",
    "\n",
    "}"
   ]
  },
  {
   "cell_type": "code",
   "execution_count": 34,
   "id": "7239479b",
   "metadata": {},
   "outputs": [
    {
     "data": {
      "text/plain": [
       "'This is the first chamber of the caves. As you can see, there is nothing of interest in the chamber. Some of the later chambers will be more interesting than this one! The code used for this message is a simple substitution cipher in which digits have been shifted by 8 places. The password is \"tyRgU03diqq\" without the quotes.'"
      ]
     },
     "execution_count": 34,
     "metadata": {},
     "output_type": "execute_result"
    }
   ],
   "source": [
    "substitute(text, key)"
   ]
  }
 ],
 "metadata": {
  "kernelspec": {
   "display_name": "Python 3",
   "language": "python",
   "name": "python3"
  },
  "language_info": {
   "codemirror_mode": {
    "name": "ipython",
    "version": 3
   },
   "file_extension": ".py",
   "mimetype": "text/x-python",
   "name": "python",
   "nbconvert_exporter": "python",
   "pygments_lexer": "ipython3",
   "version": "3.11.1 (tags/v3.11.1:a7a450f, Dec  6 2022, 19:58:39) [MSC v.1934 64 bit (AMD64)]"
  },
  "vscode": {
   "interpreter": {
    "hash": "511bb78a2d40e6f74bffa8c809e5e400709e09b6d8ef50f80358dd63aac77d30"
   }
  }
 },
 "nbformat": 4,
 "nbformat_minor": 5
}
