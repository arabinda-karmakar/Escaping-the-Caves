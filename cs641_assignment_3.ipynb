{
 "cells": [
  {
   "cell_type": "code",
   "execution_count": 54,
   "id": "c794de44",
   "metadata": {},
   "outputs": [],
   "source": [
    "cipher_text = '''qmnjvsa nv wewc flct vprj tj tvvplvl fv xja vqildhcxmlnvc nacyclpa fc gyt vfvw fv wgqyp pqq pqcs y wsqrx qmnjvafy cgv tlvhf cw tyl aeuq fv xja tkbv cqnsqslhf avawnc cv eas fuqb qvq tc yllrqr xxwa cfy psdc uqfavrqc gefq pyat trac xwv taa wwd dv eas flcbq vd trawmvupq quw x decgqcwt yq yafl vlqs yqklhq snafq vmllhvqpawr nqgvfusrecwawy qp fn wgawdgf'''"
   ]
  },
  {
   "cell_type": "code",
   "execution_count": null,
   "id": "ab24b127",
   "metadata": {},
   "outputs": [],
   "source": []
  },
  {
   "cell_type": "code",
   "execution_count": 55,
   "id": "2b9c95d4",
   "metadata": {},
   "outputs": [
    {
     "name": "stdout",
     "output_type": "stream",
     "text": [
      "qmnjvsanvwewcflctvprjtjtvvplvlfvxjavqildhcxmlnvcnacyclpafcgytvfvwfvwgqyppqqpqcsywsqrxqmnjvafycgvtlvhfcwtylaeuqfvxjatkbvcqnsqslhfavawnccveasfuqbqvqtcyllrqrxxwacfypsdcuqfavrqcgefqpyattracxwvtaawwddveasflcbqvdtrawmvupqquwxdecgqcwtyqyaflvlqsyqklhqsnafqvmllhvqpawrnqgvfusrecwawyqpfnwgawdgf\n"
     ]
    }
   ],
   "source": [
    "clean_cipher = cipher_text.replace(\" \", \"\")\n",
    "print(clean_cipher)"
   ]
  },
  {
   "cell_type": "code",
   "execution_count": 56,
   "id": "b4080a41",
   "metadata": {},
   "outputs": [
    {
     "name": "stdout",
     "output_type": "stream",
     "text": [
      "qmnjvsanvwewcflctvprjtjtvvplvlfvxjavqildhcxmlnvcnacyclpafcgytvfvwfvwgqyppqqpqcsywsqrxqmnjvafycgvtlvhfcwtylaeuqfvxjatkbvcqnsqslhfavawnccveasfuqbqvqtcyllrqrxxwacfypsdcuqfavrqcgefqpyattracxwvtaawwddveasflcbqvdtrawmvupqquwxdecgqcwtyqyaflvlqsyqklhqsnafqvmllhvqpawrnqgvfusrecwawyqpfnwgawdgf\n"
     ]
    }
   ],
   "source": [
    "text = clean_cipher[:]\n",
    "print(text)"
   ]
  },
  {
   "cell_type": "code",
   "execution_count": 57,
   "id": "014005fe",
   "metadata": {},
   "outputs": [],
   "source": [
    "freq = {}\n",
    "for c in text:\n",
    "    if c  == ' ':\n",
    "        continue\n",
    "    if c in freq:\n",
    "        freq[c.lower()] += 1\n",
    "    else:\n",
    "        freq[c.lower()] = 1"
   ]
  },
  {
   "cell_type": "code",
   "execution_count": 58,
   "id": "3d36b641",
   "metadata": {},
   "outputs": [],
   "source": [
    "total_chars = sum(freq.values())\n",
    "freq = {x: y/total_chars * 100 for x, y in freq.items()}"
   ]
  },
  {
   "cell_type": "code",
   "execution_count": 59,
   "id": "a9999ee0",
   "metadata": {},
   "outputs": [
    {
     "data": {
      "text/plain": [
       "{'q': 10.56338028169014,\n",
       " 'v': 10.211267605633804,\n",
       " 'a': 8.098591549295776,\n",
       " 'c': 7.746478873239436,\n",
       " 'w': 6.690140845070422,\n",
       " 'f': 6.690140845070422,\n",
       " 'l': 5.985915492957746,\n",
       " 't': 4.577464788732395,\n",
       " 'y': 4.577464788732395,\n",
       " 's': 3.873239436619718,\n",
       " 'p': 3.873239436619718,\n",
       " 'n': 3.5211267605633805,\n",
       " 'r': 3.169014084507042,\n",
       " 'x': 2.8169014084507045,\n",
       " 'g': 2.8169014084507045,\n",
       " 'e': 2.464788732394366,\n",
       " 'd': 2.464788732394366,\n",
       " 'j': 2.112676056338028,\n",
       " 'u': 2.112676056338028,\n",
       " 'm': 1.7605633802816902,\n",
       " 'h': 1.7605633802816902,\n",
       " 'b': 1.056338028169014,\n",
       " 'k': 0.7042253521126761,\n",
       " 'i': 0.35211267605633806}"
      ]
     },
     "execution_count": 59,
     "metadata": {},
     "output_type": "execute_result"
    }
   ],
   "source": [
    "dict(sorted(freq.items(), key=lambda item: item[1], reverse=True))"
   ]
  },
  {
   "cell_type": "code",
   "execution_count": 60,
   "id": "8f6c2fb8",
   "metadata": {},
   "outputs": [
    {
     "name": "stdout",
     "output_type": "stream",
     "text": [
      "jnvqmvnwsafclewpvrcttjvjtvllvpjxafvlidvqmxlhcncanvlcpcygcyafvfwtvgwqfvqpqypscypqrqxwsjnvqmcygafvlhvttwyfcueqlajxafvvbctkqssqnafvlhcncawsafveqbvuqyclqtrqxlrcafxwdscypafvuqgcerqypafqarctttvaxwdwdawsafveqbvlcarwdtpuqmvxwdquqgcecqyywtvllafqykqssqnlhvqmafvhqllrwnpafvuqgcewsrqypawgwafn\n"
     ]
    }
   ],
   "source": [
    "block_size = 5\n",
    "out = \"\"\n",
    "for i in range(int(len(text)/block_size)):\n",
    "    out+=text[i*block_size+3]\n",
    "    out+=text[i*block_size+2]\n",
    "    out+=text[i*block_size+4]\n",
    "    out+=text[i*block_size+0]\n",
    "    out+=text[i*block_size+1]\n",
    "print(out)"
   ]
  },
  {
   "cell_type": "code",
   "execution_count": 61,
   "id": "b02f3af9",
   "metadata": {},
   "outputs": [],
   "source": [
    "key = {\n",
    "        #plaintext -> Cipher text  \n",
    "        'a': 'q',\n",
    "        'b': 'j',\n",
    "        'c': 'e',\n",
    "        'd': 'p',\n",
    "        'e': 'v',\n",
    "        'f': 's',\n",
    "        'g': 'g',\n",
    "        'h': 'f',\n",
    "        'i': 'c',\n",
    "        'j': 'k',\n",
    "        'k': 'm',\n",
    "        'l': 't',\n",
    "        'm': 'u',\n",
    "        'n': 'y',\n",
    "        'o': 'w',\n",
    "        'p': 'h',\n",
    "        'q': 'i',\n",
    "        'r': 'n',\n",
    "        's': 'l',\n",
    "        't': 'a',\n",
    "        'u': 'd',\n",
    "        'v': 'b',\n",
    "        'w': 'r',\n",
    "        'x': 'o',\n",
    "        'y': 'x',\n",
    "        'z': 'z'\n",
    "        }\n",
    "\n",
    "inv_key = {v: k for k, v in key.items()}"
   ]
  },
  {
   "cell_type": "code",
   "execution_count": 62,
   "id": "f04e4aaf",
   "metadata": {},
   "outputs": [],
   "source": [
    "def substitute(out, key):\n",
    "    new_text = list(out)\n",
    "    for i in range(len(out)):\n",
    "        if new_text[i] in key:\n",
    "            new_text[i] = inv_key[new_text[i]]\n",
    "    return ''.join(new_text)"
   ]
  },
  {
   "cell_type": "code",
   "execution_count": 63,
   "id": "7239479b",
   "metadata": {},
   "outputs": [
    {
     "data": {
      "text/plain": [
       "'breakerofthiscodewillbeblessedbythesqueakyspiritresidingintheholegoaheadandfindawayofbreakingthespellonhimcastbytheeviljaffarthespiritofthecavemanisalwayswithyoufindthemagicwandthatwillletyououtofthecavesitwouldmakeyouamagiciannolessthanjaffarspeakthepasswordthemagicofwandtogothr'"
      ]
     },
     "execution_count": 63,
     "metadata": {},
     "output_type": "execute_result"
    }
   ],
   "source": [
    "substitute(out, key)"
   ]
  },
  {
   "cell_type": "code",
   "execution_count": null,
   "id": "013cf1fd",
   "metadata": {},
   "outputs": [],
   "source": []
  }
 ],
 "metadata": {
  "kernelspec": {
   "display_name": "Python 3",
   "language": "python",
   "name": "python3"
  },
  "language_info": {
   "codemirror_mode": {
    "name": "ipython",
    "version": 3
   },
   "file_extension": ".py",
   "mimetype": "text/x-python",
   "name": "python",
   "nbconvert_exporter": "python",
   "pygments_lexer": "ipython3",
   "version": "3.11.1"
  },
  "vscode": {
   "interpreter": {
    "hash": "511bb78a2d40e6f74bffa8c809e5e400709e09b6d8ef50f80358dd63aac77d30"
   }
  }
 },
 "nbformat": 4,
 "nbformat_minor": 5
}
